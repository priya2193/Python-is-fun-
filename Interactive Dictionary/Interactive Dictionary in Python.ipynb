{
 "cells": [
  {
   "cell_type": "code",
   "execution_count": 2,
   "metadata": {},
   "outputs": [
    {
     "name": "stdout",
     "output_type": "stream",
     "text": [
      "Enter word: rainn\n",
      "Did you mean rain instead? Enter Y if yes, or N if no: Y\n",
      "Precipitation in the form of liquid water drops with diameters greater than 0.5 millimetres.\n",
      "To fall from the clouds in drops of water.\n"
     ]
    }
   ],
   "source": [
    "import json\n",
    "from difflib import get_close_matches\n",
    "\n",
    "data = json.load(open(\"data.json\"))\n",
    "\n",
    "def translate(w):\n",
    "    w = w.lower()\n",
    "    if w in data:\n",
    "        return data[w]\n",
    "    elif w.title() in data: #if user entered \"texas\" this will check for \"Texas\" as well.\n",
    "        return data[w.title()]\n",
    "    elif w.upper() in data: #in case user enters words like USA or NATO\n",
    "        return data[w.upper()]\n",
    "    elif len(get_close_matches(w, data.keys())) > 0:\n",
    "        yn = input(\"Did you mean %s instead? Enter Y if yes, or N if no: \" % get_close_matches(w, data.keys())[0])\n",
    "        if yn == \"Y\":\n",
    "            return data[get_close_matches(w, data.keys())[0]]\n",
    "        elif yn == \"N\":\n",
    "            return \"The word doesn't exist. Please double check it.\"\n",
    "        else:\n",
    "            return \"We didn't understand your entry.\"\n",
    "    else:\n",
    "        return \"The word doesn't exist. Please double check it.\"\n",
    "\n",
    "word = input(\"Enter word: \")\n",
    "output = translate(word)\n",
    "if type(output) == list:\n",
    "    for item in output:\n",
    "        print(item)\n",
    "else:\n",
    "    print(output)\n"
   ]
  }
 ],
 "metadata": {
  "kernelspec": {
   "display_name": "Python 3",
   "language": "python",
   "name": "python3"
  },
  "language_info": {
   "codemirror_mode": {
    "name": "ipython",
    "version": 3
   },
   "file_extension": ".py",
   "mimetype": "text/x-python",
   "name": "python",
   "nbconvert_exporter": "python",
   "pygments_lexer": "ipython3",
   "version": "3.6.3"
  }
 },
 "nbformat": 4,
 "nbformat_minor": 2
}
